{
 "cells": [
  {
   "cell_type": "code",
   "execution_count": 1,
   "id": "d3a432d5",
   "metadata": {},
   "outputs": [],
   "source": [
    "import pandas as pd\n",
    "import numpy as np"
   ]
  },
  {
   "cell_type": "code",
   "execution_count": 2,
   "id": "58c6597e",
   "metadata": {},
   "outputs": [
    {
     "data": {
      "text/html": [
       "<div>\n",
       "<style scoped>\n",
       "    .dataframe tbody tr th:only-of-type {\n",
       "        vertical-align: middle;\n",
       "    }\n",
       "\n",
       "    .dataframe tbody tr th {\n",
       "        vertical-align: top;\n",
       "    }\n",
       "\n",
       "    .dataframe thead th {\n",
       "        text-align: right;\n",
       "    }\n",
       "</style>\n",
       "<table border=\"1\" class=\"dataframe\">\n",
       "  <thead>\n",
       "    <tr style=\"text-align: right;\">\n",
       "      <th></th>\n",
       "      <th>Tanggal Transaksi</th>\n",
       "      <th>Nama Produk</th>\n",
       "      <th>Kategori</th>\n",
       "      <th>Jumlah</th>\n",
       "      <th>Harga Satuan</th>\n",
       "    </tr>\n",
       "  </thead>\n",
       "  <tbody>\n",
       "    <tr>\n",
       "      <th>0</th>\n",
       "      <td>21-03-2024</td>\n",
       "      <td>kaos</td>\n",
       "      <td>Pakaian</td>\n",
       "      <td>2.0</td>\n",
       "      <td>100000.0</td>\n",
       "    </tr>\n",
       "    <tr>\n",
       "      <th>1</th>\n",
       "      <td>2024/01/21</td>\n",
       "      <td>SEPATU</td>\n",
       "      <td>Alas Kaki</td>\n",
       "      <td>NaN</td>\n",
       "      <td>50000.0</td>\n",
       "    </tr>\n",
       "    <tr>\n",
       "      <th>2</th>\n",
       "      <td>26-01-2024</td>\n",
       "      <td>Celana</td>\n",
       "      <td>Pakaian</td>\n",
       "      <td>NaN</td>\n",
       "      <td>NaN</td>\n",
       "    </tr>\n",
       "    <tr>\n",
       "      <th>3</th>\n",
       "      <td>Feb 22 2024</td>\n",
       "      <td>Tas</td>\n",
       "      <td>Aksesori</td>\n",
       "      <td>NaN</td>\n",
       "      <td>50000.0</td>\n",
       "    </tr>\n",
       "    <tr>\n",
       "      <th>4</th>\n",
       "      <td>2024/01/03</td>\n",
       "      <td>SEPATU</td>\n",
       "      <td>Alas Kaki</td>\n",
       "      <td>0.0</td>\n",
       "      <td>50000.0</td>\n",
       "    </tr>\n",
       "  </tbody>\n",
       "</table>\n",
       "</div>"
      ],
      "text/plain": [
       "  Tanggal Transaksi Nama Produk   Kategori  Jumlah  Harga Satuan\n",
       "0        21-03-2024        kaos    Pakaian     2.0      100000.0\n",
       "1        2024/01/21      SEPATU  Alas Kaki     NaN       50000.0\n",
       "2        26-01-2024      Celana    Pakaian     NaN           NaN\n",
       "3       Feb 22 2024         Tas   Aksesori     NaN       50000.0\n",
       "4        2024/01/03      SEPATU  Alas Kaki     0.0       50000.0"
      ]
     },
     "execution_count": 2,
     "metadata": {},
     "output_type": "execute_result"
    }
   ],
   "source": [
    "# 📥 Baca Dataset\n",
    "df = pd.read_csv('dataset_penjualan_kotor_1.csv')\n",
    "df.head()"
   ]
  },
  {
   "cell_type": "code",
   "execution_count": 3,
   "id": "05cf5995",
   "metadata": {},
   "outputs": [
    {
     "name": "stdout",
     "output_type": "stream",
     "text": [
      "<class 'pandas.core.frame.DataFrame'>\n",
      "RangeIndex: 160 entries, 0 to 159\n",
      "Data columns (total 5 columns):\n",
      " #   Column             Non-Null Count  Dtype  \n",
      "---  ------             --------------  -----  \n",
      " 0   Tanggal Transaksi  160 non-null    object \n",
      " 1   Nama Produk        160 non-null    object \n",
      " 2   Kategori           160 non-null    object \n",
      " 3   Jumlah             121 non-null    float64\n",
      " 4   Harga Satuan       120 non-null    float64\n",
      "dtypes: float64(2), object(3)\n",
      "memory usage: 6.4+ KB\n"
     ]
    },
    {
     "data": {
      "text/plain": [
       "Tanggal Transaksi     0\n",
       "Nama Produk           0\n",
       "Kategori              0\n",
       "Jumlah               39\n",
       "Harga Satuan         40\n",
       "dtype: int64"
      ]
     },
     "execution_count": 3,
     "metadata": {},
     "output_type": "execute_result"
    }
   ],
   "source": [
    "# 🔍 Cek Nilai Kosong dan Informasi Awal\n",
    "df.info()\n",
    "df.isnull().sum()"
   ]
  },
  {
   "cell_type": "code",
   "execution_count": 5,
   "id": "34ed0652",
   "metadata": {},
   "outputs": [
    {
     "data": {
      "text/plain": [
       "array(['21-03-2024', '2024/01/21', '26-01-2024', 'Feb 22 2024',\n",
       "       '2024/01/03', '2024/03/23', '2024/02/09', '2024/03/13',\n",
       "       'Mar 27 2024', '2024/02/08'], dtype=object)"
      ]
     },
     "execution_count": 5,
     "metadata": {},
     "output_type": "execute_result"
    }
   ],
   "source": [
    "# 🔠 Cek Nilai Unik\n",
    "df['Nama Produk'].unique()\n",
    "df['Tanggal Transaksi'].unique()[:10]"
   ]
  },
  {
   "cell_type": "code",
   "execution_count": 6,
   "id": "8d28e53f",
   "metadata": {},
   "outputs": [
    {
     "name": "stderr",
     "output_type": "stream",
     "text": [
      "C:\\Users\\user\\AppData\\Local\\Temp\\ipykernel_5872\\2932356753.py:3: UserWarning: Parsing dates in DD/MM/YYYY format when dayfirst=False (the default) was specified. This may lead to inconsistently parsed dates! Specify a format to ensure consistent parsing.\n",
      "  df['Tanggal Transaksi'] = pd.to_datetime(df['Tanggal Transaksi'], errors='coerce')\n"
     ]
    },
    {
     "data": {
      "text/plain": [
       "0"
      ]
     },
     "execution_count": 6,
     "metadata": {},
     "output_type": "execute_result"
    }
   ],
   "source": [
    "## 🧹 Data Cleaning \n",
    "# Coba parsing tanggal ke format YYYY-MM-DD\n",
    "df['Tanggal Transaksi'] = pd.to_datetime(df['Tanggal Transaksi'], errors='coerce')\n",
    "\n",
    "# Cek apakah ada yang gagal di-convert (hasilnya jadi NaT)\n",
    "df['Tanggal Transaksi'].isnull().sum()\n"
   ]
  },
  {
   "cell_type": "code",
   "execution_count": 7,
   "id": "15cfd1a8",
   "metadata": {},
   "outputs": [
    {
     "data": {
      "text/plain": [
       "array(['kaos', 'sepatu', 'celana', 'tas', 'kemeja', 'topi'], dtype=object)"
      ]
     },
     "execution_count": 7,
     "metadata": {},
     "output_type": "execute_result"
    }
   ],
   "source": [
    "# Ubah semua ke huruf kecil\n",
    "df['Nama Produk'] = df['Nama Produk'].str.lower()\n",
    "\n",
    "# Lihat nilai unik setelah diseragamkan\n",
    "df['Nama Produk'].unique()\n"
   ]
  },
  {
   "cell_type": "code",
   "execution_count": 8,
   "id": "fee8e018",
   "metadata": {},
   "outputs": [
    {
     "data": {
      "text/plain": [
       "(149, 5)"
      ]
     },
     "execution_count": 8,
     "metadata": {},
     "output_type": "execute_result"
    }
   ],
   "source": [
    "# Hapus baris yang identik\n",
    "df = df.drop_duplicates()\n",
    "\n",
    "# Cek ukuran data sekarang\n",
    "df.shape\n"
   ]
  },
  {
   "cell_type": "code",
   "execution_count": 11,
   "id": "3835e00e",
   "metadata": {},
   "outputs": [],
   "source": [
    "# Ganti NaN di Jumlah dan Harga Satuan dengan 0\n",
    "df['Jumlah'] = pd.to_numeric(df['Jumlah'], errors='coerce').fillna(0).astype(int)\n",
    "df['Harga Satuan'] = pd.to_numeric(df['Harga Satuan'], errors='coerce').fillna(0).astype(int)\n"
   ]
  },
  {
   "cell_type": "code",
   "execution_count": 12,
   "id": "ce631113",
   "metadata": {},
   "outputs": [],
   "source": [
    "# Simpan ke file CSV baru\n",
    "df.to_csv(\"dataset_penjualan_bersih.csv\", index=False)\n"
   ]
  },
  {
   "cell_type": "code",
   "execution_count": 13,
   "id": "0b53292c",
   "metadata": {},
   "outputs": [
    {
     "name": "stdout",
     "output_type": "stream",
     "text": [
      "    Tanggal Transaksi Nama Produk   Kategori  Jumlah  Harga Satuan\n",
      "0          2024-03-21        kaos    Pakaian       2        100000\n",
      "1          2024-01-21      sepatu  Alas Kaki       0         50000\n",
      "2          2024-01-26      celana    Pakaian       0             0\n",
      "3          2024-02-22         tas   Aksesori       0         50000\n",
      "4          2024-01-03      sepatu  Alas Kaki       0         50000\n",
      "..                ...         ...        ...     ...           ...\n",
      "145        2024-01-03      sepatu  Alas Kaki       5        150000\n",
      "146        2024-01-13      celana    Pakaian       5         50000\n",
      "147        2024-03-29      sepatu  Alas Kaki       0        150000\n",
      "148        2024-02-05      kemeja    Pakaian       2         50000\n",
      "149        2024-01-16      sepatu  Alas Kaki       3        100000\n",
      "\n",
      "[149 rows x 5 columns]\n"
     ]
    }
   ],
   "source": [
    "print(df)"
   ]
  },
  {
   "cell_type": "code",
   "execution_count": 14,
   "id": "f0119e6c",
   "metadata": {},
   "outputs": [
    {
     "name": "stdout",
     "output_type": "stream",
     "text": [
      "<class 'pandas.core.frame.DataFrame'>\n",
      "Int64Index: 149 entries, 0 to 149\n",
      "Data columns (total 5 columns):\n",
      " #   Column             Non-Null Count  Dtype         \n",
      "---  ------             --------------  -----         \n",
      " 0   Tanggal Transaksi  149 non-null    datetime64[ns]\n",
      " 1   Nama Produk        149 non-null    object        \n",
      " 2   Kategori           149 non-null    object        \n",
      " 3   Jumlah             149 non-null    int32         \n",
      " 4   Harga Satuan       149 non-null    int32         \n",
      "dtypes: datetime64[ns](1), int32(2), object(2)\n",
      "memory usage: 5.8+ KB\n"
     ]
    },
    {
     "data": {
      "text/html": [
       "<div>\n",
       "<style scoped>\n",
       "    .dataframe tbody tr th:only-of-type {\n",
       "        vertical-align: middle;\n",
       "    }\n",
       "\n",
       "    .dataframe tbody tr th {\n",
       "        vertical-align: top;\n",
       "    }\n",
       "\n",
       "    .dataframe thead th {\n",
       "        text-align: right;\n",
       "    }\n",
       "</style>\n",
       "<table border=\"1\" class=\"dataframe\">\n",
       "  <thead>\n",
       "    <tr style=\"text-align: right;\">\n",
       "      <th></th>\n",
       "      <th>Jumlah</th>\n",
       "      <th>Harga Satuan</th>\n",
       "    </tr>\n",
       "  </thead>\n",
       "  <tbody>\n",
       "    <tr>\n",
       "      <th>count</th>\n",
       "      <td>149.00000</td>\n",
       "      <td>149.000000</td>\n",
       "    </tr>\n",
       "    <tr>\n",
       "      <th>mean</th>\n",
       "      <td>1.85906</td>\n",
       "      <td>76510.067114</td>\n",
       "    </tr>\n",
       "    <tr>\n",
       "      <th>std</th>\n",
       "      <td>1.82705</td>\n",
       "      <td>55005.235310</td>\n",
       "    </tr>\n",
       "    <tr>\n",
       "      <th>min</th>\n",
       "      <td>0.00000</td>\n",
       "      <td>0.000000</td>\n",
       "    </tr>\n",
       "    <tr>\n",
       "      <th>25%</th>\n",
       "      <td>0.00000</td>\n",
       "      <td>0.000000</td>\n",
       "    </tr>\n",
       "    <tr>\n",
       "      <th>50%</th>\n",
       "      <td>2.00000</td>\n",
       "      <td>75000.000000</td>\n",
       "    </tr>\n",
       "    <tr>\n",
       "      <th>75%</th>\n",
       "      <td>3.00000</td>\n",
       "      <td>125000.000000</td>\n",
       "    </tr>\n",
       "    <tr>\n",
       "      <th>max</th>\n",
       "      <td>5.00000</td>\n",
       "      <td>150000.000000</td>\n",
       "    </tr>\n",
       "  </tbody>\n",
       "</table>\n",
       "</div>"
      ],
      "text/plain": [
       "          Jumlah   Harga Satuan\n",
       "count  149.00000     149.000000\n",
       "mean     1.85906   76510.067114\n",
       "std      1.82705   55005.235310\n",
       "min      0.00000       0.000000\n",
       "25%      0.00000       0.000000\n",
       "50%      2.00000   75000.000000\n",
       "75%      3.00000  125000.000000\n",
       "max      5.00000  150000.000000"
      ]
     },
     "execution_count": 14,
     "metadata": {},
     "output_type": "execute_result"
    }
   ],
   "source": [
    "df.info()\n",
    "df.describe()"
   ]
  },
  {
   "cell_type": "code",
   "execution_count": 15,
   "id": "84620209",
   "metadata": {},
   "outputs": [
    {
     "data": {
      "text/plain": [
       "sepatu    49\n",
       "kemeja    34\n",
       "kaos      27\n",
       "topi      15\n",
       "celana    12\n",
       "Name: Nama Produk, dtype: int64"
      ]
     },
     "execution_count": 15,
     "metadata": {},
     "output_type": "execute_result"
    }
   ],
   "source": [
    "# Produk paling sering terjual\n",
    "df['Nama Produk'].value_counts().head()"
   ]
  },
  {
   "cell_type": "code",
   "execution_count": 16,
   "id": "18620fa0",
   "metadata": {},
   "outputs": [
    {
     "data": {
      "text/plain": [
       "Nama Produk\n",
       "sepatu    103\n",
       "kemeja     70\n",
       "kaos       44\n",
       "topi       22\n",
       "celana     19\n",
       "tas        19\n",
       "Name: Jumlah, dtype: int32"
      ]
     },
     "execution_count": 16,
     "metadata": {},
     "output_type": "execute_result"
    }
   ],
   "source": [
    "# atau berdasarkan jumlah item\n",
    "df.groupby('Nama Produk')['Jumlah'].sum().sort_values(ascending=False).head(10)"
   ]
  },
  {
   "cell_type": "code",
   "execution_count": 22,
   "id": "6452fdbf",
   "metadata": {},
   "outputs": [
    {
     "data": {
      "text/plain": [
       "Bulan\n",
       "2024-01    8050000\n",
       "2024-02    4750000\n",
       "2024-03    6500000\n",
       "2024-04     475000\n",
       "2024-05          0\n",
       "2024-07     950000\n",
       "2024-09     100000\n",
       "2024-11          0\n",
       "2024-12     300000\n",
       "Freq: M, Name: Total Penjualan, dtype: int32"
      ]
     },
     "execution_count": 22,
     "metadata": {},
     "output_type": "execute_result"
    }
   ],
   "source": [
    "# Total penjualan tiap bulan\n",
    "# Buat kolom total penjualan\n",
    "df['Total Penjualan'] = df['Jumlah'] * df['Harga Satuan']\n",
    "\n",
    "# Ubah kolom tanggal ke format datetime (jika belum)\n",
    "df['Tanggal Transaksi'] = pd.to_datetime(df['Tanggal Transaksi'])\n",
    "\n",
    "# Buat kolom bulan\n",
    "df['Bulan'] = df['Tanggal Transaksi'].dt.to_period('M')\n",
    "\n",
    "# Hitung total penjualan per bulan\n",
    "penjualan_bulanan = df.groupby('Bulan')['Total Penjualan'].sum().sort_index()\n",
    "penjualan_bulanan\n"
   ]
  },
  {
   "cell_type": "code",
   "execution_count": 24,
   "id": "91e9f18d",
   "metadata": {},
   "outputs": [
    {
     "data": {
      "image/png": "[encoded data removed]",
      "text/plain": [
       "<Figure size 1000x500 with 1 Axes>"
      ]
     },
     "metadata": {},
     "output_type": "display_data"
    }
   ],
   "source": [
    "# Membuat grafik\n",
    "\n",
    "import matplotlib.pyplot as plt\n",
    "\n",
    "# Konversi Period ke string agar bisa tampil di sumbu x\n",
    "penjualan_bulanan.index = penjualan_bulanan.index.astype(str)\n",
    "\n",
    "# Plot\n",
    "plt.figure(figsize=(10, 5))\n",
    "plt.bar(penjualan_bulanan.index, penjualan_bulanan.values, color='skyblue')\n",
    "plt.title('Total Penjualan per Bulan (Q1–Q4 2024)')\n",
    "plt.xlabel('Bulan')\n",
    "plt.ylabel('Total Penjualan')\n",
    "plt.xticks(rotation=45)\n",
    "plt.grid(axis='y', linestyle='--', alpha=0.7)\n",
    "plt.tight_layout()\n",
    "plt.show()"
   ]
  },
  {
   "cell_type": "code",
   "execution_count": 28,
   "id": "aba05cb2",
   "metadata": {},
   "outputs": [
    {
     "data": {
      "text/plain": [
       "Nama Produk\n",
       "sepatu    2.102041\n",
       "kemeja    2.058824\n",
       "kaos      1.629630\n",
       "celana    1.583333\n",
       "tas       1.583333\n",
       "topi      1.466667\n",
       "Name: Jumlah, dtype: float64"
      ]
     },
     "execution_count": 28,
     "metadata": {},
     "output_type": "execute_result"
    }
   ],
   "source": [
    "# Hitung rata-rata jumlah per transaksi untuk tiap produk\n",
    "rata_rata_jumlah = df.groupby('Nama Produk')['Jumlah'].mean().sort_values(ascending=False)\n",
    "rata_rata_jumlah.head(10)"
   ]
  },
  {
   "cell_type": "code",
   "execution_count": 29,
   "id": "c9988b92",
   "metadata": {},
   "outputs": [
    {
     "data": {
      "image/png": "[encoded data removed]",
      "text/plain": [
       "<Figure size 1000x500 with 1 Axes>"
      ]
     },
     "metadata": {},
     "output_type": "display_data"
    }
   ],
   "source": [
    "rata_rata_jumlah.head(10).plot(kind='bar', figsize=(10,5), color='coral')\n",
    "plt.title('Rata-rata Jumlah per Transaksi per Produk (Top 10)')\n",
    "plt.xlabel('Nama Produk')\n",
    "plt.ylabel('Rata-rata Jumlah')\n",
    "plt.xticks(rotation=45)\n",
    "plt.grid(axis='y', linestyle='--', alpha=0.7)\n",
    "plt.tight_layout()\n",
    "plt.show()"
   ]
  },
  {
   "cell_type": "code",
   "execution_count": null,
   "id": "e25976f8",
   "metadata": {},
   "outputs": [],
   "source": []
  }
 ],
 "metadata": {
  "kernelspec": {
   "display_name": "Python 3 (ipykernel)",
   "language": "python",
   "name": "python3"
  },
  "language_info": {
   "codemirror_mode": {
    "name": "ipython",
    "version": 3
   },
   "file_extension": ".py",
   "mimetype": "text/x-python",
   "name": "python",
   "nbconvert_exporter": "python",
   "pygments_lexer": "ipython3",
   "version": "3.10.9"
  }
 },
 "nbformat": 4,
 "nbformat_minor": 5
}
